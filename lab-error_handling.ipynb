{
 "cells": [
  {
   "cell_type": "markdown",
   "metadata": {},
   "source": [
    "# LAB | Error Handling in Python\n",
    "\n",
    "## Overview\n",
    "This exercise notebook will help you practice error handling in Python using exceptions. You will write programs that handle various types of exceptions to ensure your code runs smoothly and handles errors gracefully."
   ]
  },
  {
   "cell_type": "markdown",
   "metadata": {},
   "source": [
    "### Exercise 1: Handle ZeroDivisionError\n",
    "Write a Python program to handle a `ZeroDivisionError` exception when dividing a number by zero.\n"
   ]
  },
  {
   "cell_type": "code",
   "execution_count": 4,
   "metadata": {},
   "outputs": [
    {
     "name": "stdout",
     "output_type": "stream",
     "text": [
      "division by zero\n"
     ]
    }
   ],
   "source": [
    "# Your code here\n",
    "\n",
    "try:\n",
    "    print(10/0)\n",
    "except ZeroDivisionError as error:\n",
    "    print(error)"
   ]
  },
  {
   "cell_type": "markdown",
   "metadata": {},
   "source": [
    "\n",
    "### Exercise 2: Raise ValueError for Invalid Input\n",
    "Write a Python program that prompts the user to input an integer and raises a `ValueError` exception if the input is not a valid integer.\n",
    "\n"
   ]
  },
  {
   "cell_type": "code",
   "execution_count": 10,
   "metadata": {},
   "outputs": [
    {
     "name": "stdout",
     "output_type": "stream",
     "text": [
      "invalid literal for int() with base 10: 'a'\n"
     ]
    }
   ],
   "source": [
    "# Your code here\n",
    "\n",
    "number = input(\"Enter an int\")\n",
    "try:\n",
    "    new = int(number)\n",
    "except ValueError as error:\n",
    "    print(error)"
   ]
  },
  {
   "cell_type": "markdown",
   "metadata": {},
   "source": [
    "\n",
    "\n",
    "### Exercise 3: Handle FileNotFoundError\n",
    "Write a Python program that opens a file and handles a `FileNotFoundError` exception if the file does not exist.\n",
    "\n"
   ]
  },
  {
   "cell_type": "code",
   "execution_count": 19,
   "metadata": {},
   "outputs": [
    {
     "name": "stdout",
     "output_type": "stream",
     "text": [
      "[Errno 2] No such file or directory: 'lab-py-error-handling/lab-error_handling.ipynb'\n"
     ]
    }
   ],
   "source": [
    "# Your code here\n",
    "try:\n",
    "    with open('lab-py-error-handling/lab-error_handling.ipynb', 'r') as file:\n",
    "        content = file.read()\n",
    "        print(content)\n",
    "except FileNotFoundError as error:\n",
    "    print(error)\n"
   ]
  },
  {
   "cell_type": "markdown",
   "metadata": {},
   "source": [
    "\n",
    "\n",
    "### Exercise 4: Raise TypeError for Non-Numerical Input\n",
    "Write a Python program that prompts the user to input two numbers and raises a `TypeError` exception if the inputs are not numerical.\n",
    "\n"
   ]
  },
  {
   "cell_type": "code",
   "execution_count": 25,
   "metadata": {},
   "outputs": [
    {
     "name": "stdout",
     "output_type": "stream",
     "text": [
      "Both inputs must be numerical.\n"
     ]
    }
   ],
   "source": [
    "try:\n",
    "    # Prompt the user to input two numbers\n",
    "    num1 = input(\"Please enter the first number: \")\n",
    "    num2 = input(\"Please enter the second number: \")\n",
    "\n",
    "    # Check if both inputs are numerical\n",
    "    if not (num1.isdigit() and num2.isdigit()):\n",
    "        raise TypeError(\"Both inputs must be numerical.\")\n",
    "\n",
    "    # Convert the inputs to integers\n",
    "    num1 = int(num1)\n",
    "    num2 = int(num2)\n",
    "\n",
    "    print(f\"You entered the numbers: {num1} and {num2}\")\n",
    "\n",
    "except TypeError as e:\n",
    "    print(e)"
   ]
  },
  {
   "cell_type": "markdown",
   "metadata": {},
   "source": [
    "\n",
    "\n",
    "### Exercise 5: Handle PermissionError\n",
    "Write a Python program that opens a file and handles a `PermissionError` exception if there is a permission issue.\n",
    "\n",
    "\n"
   ]
  },
  {
   "cell_type": "code",
   "execution_count": 27,
   "metadata": {},
   "outputs": [
    {
     "name": "stdout",
     "output_type": "stream",
     "text": [
      "{\n",
      " \"cells\": [\n",
      "  {\n",
      "   \"cell_type\": \"markdown\",\n",
      "   \"metadata\": {},\n",
      "   \"source\": [\n",
      "    \"# LAB | Error Handling in Python\\n\",\n",
      "    \"\\n\",\n",
      "    \"## Overview\\n\",\n",
      "    \"This exercise notebook will help you practice error handling in Python using exceptions. You will write programs that handle various types of exceptions to ensure your code runs smoothly and handles errors gracefully.\"\n",
      "   ]\n",
      "  },\n",
      "  {\n",
      "   \"cell_type\": \"markdown\",\n",
      "   \"metadata\": {},\n",
      "   \"source\": [\n",
      "    \"### Exercise 1: Handle ZeroDivisionError\\n\",\n",
      "    \"Write a Python program to handle a `ZeroDivisionError` exception when dividing a number by zero.\\n\"\n",
      "   ]\n",
      "  },\n",
      "  {\n",
      "   \"cell_type\": \"code\",\n",
      "   \"execution_count\": 4,\n",
      "   \"metadata\": {},\n",
      "   \"outputs\": [\n",
      "    {\n",
      "     \"name\": \"stdout\",\n",
      "     \"output_type\": \"stream\",\n",
      "     \"text\": [\n",
      "      \"division by zero\\n\"\n",
      "     ]\n",
      "    }\n",
      "   ],\n",
      "   \"source\": [\n",
      "    \"# Your code here\\n\",\n",
      "    \"\\n\",\n",
      "    \"try:\\n\",\n",
      "    \"    print(10/0)\\n\",\n",
      "    \"except ZeroDivisionError as error:\\n\",\n",
      "    \"    print(error)\"\n",
      "   ]\n",
      "  },\n",
      "  {\n",
      "   \"cell_type\": \"markdown\",\n",
      "   \"metadata\": {},\n",
      "   \"source\": [\n",
      "    \"\\n\",\n",
      "    \"### Exercise 2: Raise ValueError for Invalid Input\\n\",\n",
      "    \"Write a Python program that prompts the user to input an integer and raises a `ValueError` exception if the input is not a valid integer.\\n\",\n",
      "    \"\\n\"\n",
      "   ]\n",
      "  },\n",
      "  {\n",
      "   \"cell_type\": \"code\",\n",
      "   \"execution_count\": 10,\n",
      "   \"metadata\": {},\n",
      "   \"outputs\": [\n",
      "    {\n",
      "     \"name\": \"stdout\",\n",
      "     \"output_type\": \"stream\",\n",
      "     \"text\": [\n",
      "      \"invalid literal for int() with base 10: 'a'\\n\"\n",
      "     ]\n",
      "    }\n",
      "   ],\n",
      "   \"source\": [\n",
      "    \"# Your code here\\n\",\n",
      "    \"\\n\",\n",
      "    \"number = input(\\\"Enter an int\\\")\\n\",\n",
      "    \"try:\\n\",\n",
      "    \"    new = int(number)\\n\",\n",
      "    \"except ValueError as error:\\n\",\n",
      "    \"    print(error)\"\n",
      "   ]\n",
      "  },\n",
      "  {\n",
      "   \"cell_type\": \"markdown\",\n",
      "   \"metadata\": {},\n",
      "   \"source\": [\n",
      "    \"\\n\",\n",
      "    \"\\n\",\n",
      "    \"### Exercise 3: Handle FileNotFoundError\\n\",\n",
      "    \"Write a Python program that opens a file and handles a `FileNotFoundError` exception if the file does not exist.\\n\",\n",
      "    \"\\n\"\n",
      "   ]\n",
      "  },\n",
      "  {\n",
      "   \"cell_type\": \"code\",\n",
      "   \"execution_count\": 19,\n",
      "   \"metadata\": {},\n",
      "   \"outputs\": [\n",
      "    {\n",
      "     \"name\": \"stdout\",\n",
      "     \"output_type\": \"stream\",\n",
      "     \"text\": [\n",
      "      \"[Errno 2] No such file or directory: 'lab-py-error-handling/lab-error_handling.ipynb'\\n\"\n",
      "     ]\n",
      "    }\n",
      "   ],\n",
      "   \"source\": [\n",
      "    \"# Your code here\\n\",\n",
      "    \"try:\\n\",\n",
      "    \"    with open('lab-py-error-handling/lab-error_handling.ipynb', 'r') as file:\\n\",\n",
      "    \"        content = file.read()\\n\",\n",
      "    \"        print(content)\\n\",\n",
      "    \"except FileNotFoundError as error:\\n\",\n",
      "    \"    print(error)\\n\"\n",
      "   ]\n",
      "  },\n",
      "  {\n",
      "   \"cell_type\": \"markdown\",\n",
      "   \"metadata\": {},\n",
      "   \"source\": [\n",
      "    \"\\n\",\n",
      "    \"\\n\",\n",
      "    \"### Exercise 4: Raise TypeError for Non-Numerical Input\\n\",\n",
      "    \"Write a Python program that prompts the user to input two numbers and raises a `TypeError` exception if the inputs are not numerical.\\n\",\n",
      "    \"\\n\"\n",
      "   ]\n",
      "  },\n",
      "  {\n",
      "   \"cell_type\": \"code\",\n",
      "   \"execution_count\": 25,\n",
      "   \"metadata\": {},\n",
      "   \"outputs\": [\n",
      "    {\n",
      "     \"name\": \"stdout\",\n",
      "     \"output_type\": \"stream\",\n",
      "     \"text\": [\n",
      "      \"Both inputs must be numerical.\\n\"\n",
      "     ]\n",
      "    }\n",
      "   ],\n",
      "   \"source\": [\n",
      "    \"try:\\n\",\n",
      "    \"    # Prompt the user to input two numbers\\n\",\n",
      "    \"    num1 = input(\\\"Please enter the first number: \\\")\\n\",\n",
      "    \"    num2 = input(\\\"Please enter the second number: \\\")\\n\",\n",
      "    \"\\n\",\n",
      "    \"    # Check if both inputs are numerical\\n\",\n",
      "    \"    if not (num1.isdigit() and num2.isdigit()):\\n\",\n",
      "    \"        raise TypeError(\\\"Both inputs must be numerical.\\\")\\n\",\n",
      "    \"\\n\",\n",
      "    \"    # Convert the inputs to integers\\n\",\n",
      "    \"    num1 = int(num1)\\n\",\n",
      "    \"    num2 = int(num2)\\n\",\n",
      "    \"\\n\",\n",
      "    \"    print(f\\\"You entered the numbers: {num1} and {num2}\\\")\\n\",\n",
      "    \"\\n\",\n",
      "    \"except TypeError as e:\\n\",\n",
      "    \"    print(e)\"\n",
      "   ]\n",
      "  },\n",
      "  {\n",
      "   \"cell_type\": \"markdown\",\n",
      "   \"metadata\": {},\n",
      "   \"source\": [\n",
      "    \"\\n\",\n",
      "    \"\\n\",\n",
      "    \"### Exercise 5: Handle PermissionError\\n\",\n",
      "    \"Write a Python program that opens a file and handles a `PermissionError` exception if there is a permission issue.\\n\",\n",
      "    \"\\n\",\n",
      "    \"\\n\"\n",
      "   ]\n",
      "  },\n",
      "  {\n",
      "   \"cell_type\": \"code\",\n",
      "   \"execution_count\": 26,\n",
      "   \"metadata\": {},\n",
      "   \"outputs\": [\n",
      "    {\n",
      "     \"ename\": \"FileNotFoundError\",\n",
      "     \"evalue\": \"[Errno 2] No such file or directory: 'lab-py-error-handling/lab-error_handling.ipynb'\",\n",
      "     \"output_type\": \"error\",\n",
      "     \"traceback\": [\n",
      "      \"\\u001b[1;31m---------------------------------------------------------------------------\\u001b[0m\",\n",
      "      \"\\u001b[1;31mFileNotFoundError\\u001b[0m                         Traceback (most recent call last)\",\n",
      "      \"Cell \\u001b[1;32mIn[26], line 3\\u001b[0m\\n\\u001b[0;32m      1\\u001b[0m \\u001b[38;5;66;03m# Your code here\\u001b[39;00m\\n\\u001b[0;32m      2\\u001b[0m \\u001b[38;5;28;01mtry\\u001b[39;00m:\\n\\u001b[1;32m----> 3\\u001b[0m     \\u001b[38;5;28;01mwith\\u001b[39;00m \\u001b[38;5;28;43mopen\\u001b[39;49m\\u001b[43m(\\u001b[49m\\u001b[38;5;124;43m'\\u001b[39;49m\\u001b[38;5;124;43mlab-py-error-handling/lab-error_handling.ipynb\\u001b[39;49m\\u001b[38;5;124;43m'\\u001b[39;49m\\u001b[43m,\\u001b[49m\\u001b[43m \\u001b[49m\\u001b[38;5;124;43m'\\u001b[39;49m\\u001b[38;5;124;43mr\\u001b[39;49m\\u001b[38;5;124;43m'\\u001b[39;49m\\u001b[43m)\\u001b[49m \\u001b[38;5;28;01mas\\u001b[39;00m file:\\n\\u001b[0;32m      4\\u001b[0m         content \\u001b[38;5;241m=\\u001b[39m file\\u001b[38;5;241m.\\u001b[39mread()\\n\\u001b[0;32m      5\\u001b[0m         \\u001b[38;5;28mprint\\u001b[39m(content)\\n\",\n",
      "      \"File \\u001b[1;32mc:\\\\Users\\\\Martijn\\\\anaconda3\\\\envs\\\\datasci_env\\\\lib\\\\site-packages\\\\IPython\\\\core\\\\interactiveshell.py:284\\u001b[0m, in \\u001b[0;36m_modified_open\\u001b[1;34m(file, *args, **kwargs)\\u001b[0m\\n\\u001b[0;32m    277\\u001b[0m \\u001b[38;5;28;01mif\\u001b[39;00m file \\u001b[38;5;129;01min\\u001b[39;00m {\\u001b[38;5;241m0\\u001b[39m, \\u001b[38;5;241m1\\u001b[39m, \\u001b[38;5;241m2\\u001b[39m}:\\n\\u001b[0;32m    278\\u001b[0m     \\u001b[38;5;28;01mraise\\u001b[39;00m \\u001b[38;5;167;01mValueError\\u001b[39;00m(\\n\\u001b[0;32m    279\\u001b[0m         \\u001b[38;5;124mf\\u001b[39m\\u001b[38;5;124m\\\"\\u001b[39m\\u001b[38;5;124mIPython won\\u001b[39m\\u001b[38;5;124m'\\u001b[39m\\u001b[38;5;124mt let you open fd=\\u001b[39m\\u001b[38;5;132;01m{\\u001b[39;00mfile\\u001b[38;5;132;01m}\\u001b[39;00m\\u001b[38;5;124m by default \\u001b[39m\\u001b[38;5;124m\\\"\\u001b[39m\\n\\u001b[0;32m    280\\u001b[0m         \\u001b[38;5;124m\\\"\\u001b[39m\\u001b[38;5;124mas it is likely to crash IPython. If you know what you are doing, \\u001b[39m\\u001b[38;5;124m\\\"\\u001b[39m\\n\\u001b[0;32m    281\\u001b[0m         \\u001b[38;5;124m\\\"\\u001b[39m\\u001b[38;5;124myou can use builtins\\u001b[39m\\u001b[38;5;124m'\\u001b[39m\\u001b[38;5;124m open.\\u001b[39m\\u001b[38;5;124m\\\"\\u001b[39m\\n\\u001b[0;32m    282\\u001b[0m     )\\n\\u001b[1;32m--> 284\\u001b[0m \\u001b[38;5;28;01mreturn\\u001b[39;00m \\u001b[43mio_open\\u001b[49m\\u001b[43m(\\u001b[49m\\u001b[43mfile\\u001b[49m\\u001b[43m,\\u001b[49m\\u001b[43m \\u001b[49m\\u001b[38;5;241;43m*\\u001b[39;49m\\u001b[43margs\\u001b[49m\\u001b[43m,\\u001b[49m\\u001b[43m \\u001b[49m\\u001b[38;5;241;43m*\\u001b[39;49m\\u001b[38;5;241;43m*\\u001b[39;49m\\u001b[43mkwargs\\u001b[49m\\u001b[43m)\\u001b[49m\\n\",\n",
      "      \"\\u001b[1;31mFileNotFoundError\\u001b[0m: [Errno 2] No such file or directory: 'lab-py-error-handling/lab-error_handling.ipynb'\"\n",
      "     ]\n",
      "    }\n",
      "   ],\n",
      "   \"source\": [\n",
      "    \"# Your code here\\n\",\n",
      "    \"try:\\n\",\n",
      "    \"    with open('lab-py-error-handling\\\\lab-error_handling.ipynb', 'r') as file:\\n\",\n",
      "    \"        content = file.read()\\n\",\n",
      "    \"        print(content)\\n\",\n",
      "    \"except PermissionError as error:\\n\",\n",
      "    \"    print(error)\"\n",
      "   ]\n",
      "  },\n",
      "  {\n",
      "   \"cell_type\": \"markdown\",\n",
      "   \"metadata\": {},\n",
      "   \"source\": [\n",
      "    \"\\n\",\n",
      "    \"\\n\",\n",
      "    \"### Exercise 6: Handle IndexError in List Operations\\n\",\n",
      "    \"Write a Python program that executes an operation on a list and handles an `IndexError` exception if the index is out of range.\\n\",\n",
      "    \"\\n\",\n",
      "    \"\\n\"\n",
      "   ]\n",
      "  },\n",
      "  {\n",
      "   \"cell_type\": \"code\",\n",
      "   \"execution_count\": null,\n",
      "   \"metadata\": {},\n",
      "   \"outputs\": [],\n",
      "   \"source\": [\n",
      "    \"# Your code here\"\n",
      "   ]\n",
      "  },\n",
      "  {\n",
      "   \"cell_type\": \"markdown\",\n",
      "   \"metadata\": {},\n",
      "   \"source\": [\n",
      "    \"\\n\",\n",
      "    \"\\n\",\n",
      "    \"### Exercise 7: Handle KeyboardInterrupt Exception\\n\",\n",
      "    \"Write a Python program that prompts the user to input a number and handles a `KeyboardInterrupt` exception if the user cancels the input.\\n\",\n",
      "    \"\\n\"\n",
      "   ]\n",
      "  },\n",
      "  {\n",
      "   \"cell_type\": \"code\",\n",
      "   \"execution_count\": null,\n",
      "   \"metadata\": {},\n",
      "   \"outputs\": [],\n",
      "   \"source\": [\n",
      "    \"# Your code here\"\n",
      "   ]\n",
      "  },\n",
      "  {\n",
      "   \"cell_type\": \"markdown\",\n",
      "   \"metadata\": {},\n",
      "   \"source\": [\n",
      "    \"\\n\",\n",
      "    \"\\n\",\n",
      "    \"### Exercise 8: Handle ArithmeticError\\n\",\n",
      "    \"Write a Python program that executes division and handles an `ArithmeticError` exception if there is an arithmetic error.\\n\",\n",
      "    \"\\n\"\n",
      "   ]\n",
      "  },\n",
      "  {\n",
      "   \"cell_type\": \"code\",\n",
      "   \"execution_count\": null,\n",
      "   \"metadata\": {},\n",
      "   \"outputs\": [],\n",
      "   \"source\": [\n",
      "    \"# Your code here\"\n",
      "   ]\n",
      "  },\n",
      "  {\n",
      "   \"cell_type\": \"markdown\",\n",
      "   \"metadata\": {},\n",
      "   \"source\": [\n",
      "    \"\\n\",\n",
      "    \"\\n\",\n",
      "    \"### Exercise 9: Handle UnicodeDecodeError\\n\",\n",
      "    \"Write a Python program that opens a file and handles a `UnicodeDecodeError` exception if there is an encoding issue.\\n\",\n",
      "    \"\\n\"\n",
      "   ]\n",
      "  },\n",
      "  {\n",
      "   \"cell_type\": \"code\",\n",
      "   \"execution_count\": null,\n",
      "   \"metadata\": {},\n",
      "   \"outputs\": [],\n",
      "   \"source\": [\n",
      "    \"# Your code here\"\n",
      "   ]\n",
      "  },\n",
      "  {\n",
      "   \"cell_type\": \"markdown\",\n",
      "   \"metadata\": {},\n",
      "   \"source\": [\n",
      "    \"\\n\",\n",
      "    \"\\n\",\n",
      "    \"### Exercise 10: Handle AttributeError\\n\",\n",
      "    \"Write a Python program that executes an operation on an object and handles an `AttributeError` exception if the attribute does not exist.\\n\",\n",
      "    \"\\n\"\n",
      "   ]\n",
      "  },\n",
      "  {\n",
      "   \"cell_type\": \"code\",\n",
      "   \"execution_count\": null,\n",
      "   \"metadata\": {},\n",
      "   \"outputs\": [],\n",
      "   \"source\": [\n",
      "    \"# Your code here\"\n",
      "   ]\n",
      "  },\n",
      "  {\n",
      "   \"cell_type\": \"markdown\",\n",
      "   \"metadata\": {},\n",
      "   \"source\": [\n",
      "    \"\\n\",\n",
      "    \"\\n\",\n",
      "    \"## Bonus Exercises\\n\",\n",
      "    \"\\n\",\n",
      "    \"### Bonus Exercise 1: Handle Multiple Exceptions\\n\",\n",
      "    \"Write a Python program that demonstrates handling multiple exceptions in one block.\\n\",\n",
      "    \"\\n\",\n",
      "    \"\\n\"\n",
      "   ]\n",
      "  },\n",
      "  {\n",
      "   \"cell_type\": \"code\",\n",
      "   \"execution_count\": 6,\n",
      "   \"metadata\": {},\n",
      "   \"outputs\": [],\n",
      "   \"source\": [\n",
      "    \"# Your code here\"\n",
      "   ]\n",
      "  },\n",
      "  {\n",
      "   \"cell_type\": \"markdown\",\n",
      "   \"metadata\": {},\n",
      "   \"source\": [\n",
      "    \"\\n\",\n",
      "    \"\\n\",\n",
      "    \"### Bonus Exercise 2: Create Custom Exception\\n\",\n",
      "    \"Create a custom exception class and raise it in your code when certain conditions are met.\\n\",\n",
      "    \"\\n\",\n",
      "    \"\\n\"\n",
      "   ]\n",
      "  },\n",
      "  {\n",
      "   \"cell_type\": \"code\",\n",
      "   \"execution_count\": null,\n",
      "   \"metadata\": {},\n",
      "   \"outputs\": [],\n",
      "   \"source\": [\n",
      "    \"# Your code here\"\n",
      "   ]\n",
      "  },\n",
      "  {\n",
      "   \"cell_type\": \"markdown\",\n",
      "   \"metadata\": {},\n",
      "   \"source\": [\n",
      "    \"\\n\",\n",
      "    \"\\n\",\n",
      "    \"### Bonus Exercise 3: Validate User Input with Exception Handling\\n\",\n",
      "    \"Write a program that repeatedly prompts the user for valid input until they provide it, using exception handling to manage invalid inputs.\\n\",\n",
      "    \"\\n\"\n",
      "   ]\n",
      "  },\n",
      "  {\n",
      "   \"cell_type\": \"code\",\n",
      "   \"execution_count\": null,\n",
      "   \"metadata\": {},\n",
      "   \"outputs\": [],\n",
      "   \"source\": [\n",
      "    \"# Your code here\"\n",
      "   ]\n",
      "  },\n",
      "  {\n",
      "   \"cell_type\": \"markdown\",\n",
      "   \"metadata\": {},\n",
      "   \"source\": [\n",
      "    \"\\n\",\n",
      "    \"\\n\",\n",
      "    \"### Bonus Exercise 4: Log Errors to File\\n\",\n",
      "    \"Modify your error handling to log errors to a text file instead of printing them to the console.\\n\",\n",
      "    \"\\n\"\n",
      "   ]\n",
      "  },\n",
      "  {\n",
      "   \"cell_type\": \"code\",\n",
      "   \"execution_count\": 10,\n",
      "   \"metadata\": {},\n",
      "   \"outputs\": [],\n",
      "   \"source\": [\n",
      "    \"# Your code here\"\n",
      "   ]\n",
      "  },\n",
      "  {\n",
      "   \"cell_type\": \"markdown\",\n",
      "   \"metadata\": {},\n",
      "   \"source\": [\n",
      "    \"\\n\",\n",
      "    \"\\n\",\n",
      "    \"### Bonus Exercise 5: Retry Logic on Exception\\n\",\n",
      "    \"Implement retry logic for operations that could fail, allowing users to try again after encountering an error.\\n\",\n",
      "    \"\\n\"\n",
      "   ]\n",
      "  },\n",
      "  {\n",
      "   \"cell_type\": \"code\",\n",
      "   \"execution_count\": null,\n",
      "   \"metadata\": {},\n",
      "   \"outputs\": [],\n",
      "   \"source\": [\n",
      "    \"# Your code here\"\n",
      "   ]\n",
      "  }\n",
      " ],\n",
      " \"metadata\": {\n",
      "  \"kernelspec\": {\n",
      "   \"display_name\": \"datasci_env\",\n",
      "   \"language\": \"python\",\n",
      "   \"name\": \"python3\"\n",
      "  },\n",
      "  \"language_info\": {\n",
      "   \"codemirror_mode\": {\n",
      "    \"name\": \"ipython\",\n",
      "    \"version\": 3\n",
      "   },\n",
      "   \"file_extension\": \".py\",\n",
      "   \"mimetype\": \"text/x-python\",\n",
      "   \"name\": \"python\",\n",
      "   \"nbconvert_exporter\": \"python\",\n",
      "   \"pygments_lexer\": \"ipython3\",\n",
      "   \"version\": \"3.8.20\"\n",
      "  }\n",
      " },\n",
      " \"nbformat\": 4,\n",
      " \"nbformat_minor\": 2\n",
      "}\n",
      "\n"
     ]
    }
   ],
   "source": [
    "# Your code here\n",
    "try:\n",
    "    with open('G:\\My Drive\\Ironhack\\lab-py-error-handling\\lab-error_handling.ipynb', 'r') as file:\n",
    "        content = file.read()\n",
    "        print(content)\n",
    "except PermissionError as error:\n",
    "    print(error)"
   ]
  },
  {
   "cell_type": "markdown",
   "metadata": {},
   "source": [
    "\n",
    "\n",
    "### Exercise 6: Handle IndexError in List Operations\n",
    "Write a Python program that executes an operation on a list and handles an `IndexError` exception if the index is out of range.\n",
    "\n",
    "\n"
   ]
  },
  {
   "cell_type": "code",
   "execution_count": 28,
   "metadata": {},
   "outputs": [
    {
     "name": "stdout",
     "output_type": "stream",
     "text": [
      "list assignment index out of range\n"
     ]
    }
   ],
   "source": [
    "# Your code here\n",
    "\n",
    "lst = [0,1,2]\n",
    "\n",
    "try:\n",
    "    lst[4] = \"yeah\"\n",
    "except IndexError as e:\n",
    "    print(e)"
   ]
  },
  {
   "cell_type": "markdown",
   "metadata": {},
   "source": [
    "\n",
    "\n",
    "### Exercise 7: Handle KeyboardInterrupt Exception\n",
    "Write a Python program that prompts the user to input a number and handles a `KeyboardInterrupt` exception if the user cancels the input.\n",
    "\n"
   ]
  },
  {
   "cell_type": "code",
   "execution_count": 35,
   "metadata": {},
   "outputs": [
    {
     "name": "stdout",
     "output_type": "stream",
     "text": [
      "That's not a valid number. Please try again.\n"
     ]
    }
   ],
   "source": [
    "def get_number():\n",
    "    try:\n",
    "        # Prompt the user to input a number\n",
    "        user_input = input(\"Please enter a number: \")\n",
    "        number = int(user_input)\n",
    "        print(f\"You entered the number: {number}\")\n",
    "    except KeyboardInterrupt:\n",
    "        print(\"\\nInput was interrupted. You pressed Ctrl+C.\")\n",
    "    except ValueError:\n",
    "        print(\"That's not a valid number. Please try again.\")\n",
    "\n",
    "# Call the function\n",
    "get_number()\n"
   ]
  },
  {
   "cell_type": "markdown",
   "metadata": {},
   "source": [
    "\n",
    "\n",
    "### Exercise 8: Handle ArithmeticError\n",
    "Write a Python program that executes division and handles an `ArithmeticError` exception if there is an arithmetic error.\n",
    "\n"
   ]
  },
  {
   "cell_type": "code",
   "execution_count": 36,
   "metadata": {},
   "outputs": [
    {
     "name": "stdout",
     "output_type": "stream",
     "text": [
      "An arithmetic error occurred: float division by zero\n"
     ]
    }
   ],
   "source": [
    "def divide_numbers():\n",
    "    try:\n",
    "        # Prompt the user for two numbers\n",
    "        num1 = float(input(\"Enter the numerator: \"))\n",
    "        num2 = float(input(\"Enter the denominator: \"))\n",
    "        \n",
    "        # Perform division\n",
    "        result = num1 / num2\n",
    "        print(f\"The result of division is: {result}\")\n",
    "    \n",
    "    except ArithmeticError as e:\n",
    "        print(f\"An arithmetic error occurred: {e}\")\n",
    "    except ZeroDivisionError:\n",
    "        print(\"Error: Cannot divide by zero.\")\n",
    "    except ValueError:\n",
    "        print(\"Invalid input. Please enter valid numbers.\")\n",
    "\n",
    "# Call the function\n",
    "divide_numbers()\n"
   ]
  },
  {
   "cell_type": "markdown",
   "metadata": {},
   "source": [
    "\n",
    "\n",
    "### Exercise 9: Handle UnicodeDecodeError\n",
    "Write a Python program that opens a file and handles a `UnicodeDecodeError` exception if there is an encoding issue.\n",
    "\n"
   ]
  },
  {
   "cell_type": "code",
   "execution_count": 37,
   "metadata": {},
   "outputs": [
    {
     "name": "stdout",
     "output_type": "stream",
     "text": [
      "FileNotFoundError: The file 'test.py' was not found.\n"
     ]
    }
   ],
   "source": [
    "# Your code here\n",
    "def open_file():\n",
    "    try:\n",
    "        # Prompt the user to input the file name\n",
    "        file_name = input(\"Enter the file name to open: \")\n",
    "        \n",
    "        # Try opening the file with the default encoding\n",
    "        with open(file_name, 'r') as file:\n",
    "            content = file.read()\n",
    "            print(content)\n",
    "    \n",
    "    except UnicodeDecodeError:\n",
    "        print(f\"UnicodeDecodeError: There was an issue with the encoding of the file '{file_name}'.\")\n",
    "    except FileNotFoundError:\n",
    "        print(f\"FileNotFoundError: The file '{file_name}' was not found.\")\n",
    "    except Exception as e:\n",
    "        print(f\"An unexpected error occurred: {e}\")\n",
    "\n",
    "# Call the function\n",
    "open_file()\n"
   ]
  },
  {
   "cell_type": "markdown",
   "metadata": {},
   "source": [
    "\n",
    "\n",
    "### Exercise 10: Handle AttributeError\n",
    "Write a Python program that executes an operation on an object and handles an `AttributeError` exception if the attribute does not exist.\n",
    "\n"
   ]
  },
  {
   "cell_type": "code",
   "execution_count": 47,
   "metadata": {},
   "outputs": [
    {
     "name": "stdout",
     "output_type": "stream",
     "text": [
      "'Student' object has no attribute 'birthday'\n"
     ]
    }
   ],
   "source": [
    "# Your code here\n",
    "\n",
    "class Student:\n",
    "    def __init__(self, name, age):\n",
    "        self.name = name\n",
    "        self.age = age\n",
    "\n",
    "    def older(self):\n",
    "        self.age += 1\n",
    "\n",
    "\n",
    "me = Student(\"Martijn\", 27)\n",
    "\n",
    "try:\n",
    "    me.birthday()\n",
    "except AttributeError as e:\n",
    "    print(e)\n",
    "\n"
   ]
  },
  {
   "cell_type": "markdown",
   "metadata": {},
   "source": [
    "\n",
    "\n",
    "## Bonus Exercises\n",
    "\n",
    "### Bonus Exercise 1: Handle Multiple Exceptions\n",
    "Write a Python program that demonstrates handling multiple exceptions in one block.\n",
    "\n",
    "\n"
   ]
  },
  {
   "cell_type": "code",
   "execution_count": 6,
   "metadata": {},
   "outputs": [],
   "source": [
    "# Your code here"
   ]
  },
  {
   "cell_type": "markdown",
   "metadata": {},
   "source": [
    "\n",
    "\n",
    "### Bonus Exercise 2: Create Custom Exception\n",
    "Create a custom exception class and raise it in your code when certain conditions are met.\n",
    "\n",
    "\n"
   ]
  },
  {
   "cell_type": "code",
   "execution_count": 51,
   "metadata": {},
   "outputs": [
    {
     "name": "stdout",
     "output_type": "stream",
     "text": [
      "You entered the number: 3.0\n"
     ]
    }
   ],
   "source": [
    "# Define the custom exception\n",
    "class NegativeNumberError(Exception):\n",
    "    def __init__(self, message=\"Negative numbers are not allowed!\"):\n",
    "        self.message = message\n",
    "        super().__init__(self.message)\n",
    "\n",
    "def check_number():\n",
    "    try:\n",
    "        num = float(input(\"Please enter a number: \"))\n",
    "        \n",
    "        # Raise the custom exception if the number is negative\n",
    "        if num < 0:\n",
    "            raise NegativeNumberError(\"You cannot enter a negative number.\")\n",
    "        \n",
    "        print(f\"You entered the number: {num}\")\n",
    "    \n",
    "    except NegativeNumberError as e:\n",
    "        print(f\"Error: {e}\")\n",
    "    except ValueError:\n",
    "        print(\"Invalid input. Please enter a valid number.\")\n",
    "\n",
    "# Call the function\n",
    "check_number()\n"
   ]
  },
  {
   "cell_type": "markdown",
   "metadata": {},
   "source": [
    "\n",
    "\n",
    "### Bonus Exercise 3: Validate User Input with Exception Handling\n",
    "Write a program that repeatedly prompts the user for valid input until they provide it, using exception handling to manage invalid inputs.\n",
    "\n"
   ]
  },
  {
   "cell_type": "code",
   "execution_count": 4,
   "metadata": {},
   "outputs": [
    {
     "name": "stdout",
     "output_type": "stream",
     "text": [
      "Invalid input. Please enter a valid number.\n",
      "Good job\n"
     ]
    }
   ],
   "source": [
    "# Your code here\n",
    "\n",
    "while True:\n",
    "    try:\n",
    "        number = input(\"Enter the correct number\")\n",
    "        num = int(number)\n",
    "        if num > 5:\n",
    "            raise TypeError(\"Number is greater than 5\")\n",
    "\n",
    "        if num == 5:\n",
    "            print(\"Good job\")\n",
    "            break\n",
    "    except TypeError as e:\n",
    "        print(e)\n",
    "    except ValueError:\n",
    "        print(\"Invalid input. Please enter a valid number.\")\n",
    "\n"
   ]
  },
  {
   "cell_type": "markdown",
   "metadata": {},
   "source": [
    "\n",
    "\n",
    "### Bonus Exercise 4: Log Errors to File\n",
    "Modify your error handling to log errors to a text file instead of printing them to the console.\n",
    "\n"
   ]
  },
  {
   "cell_type": "code",
   "execution_count": 10,
   "metadata": {},
   "outputs": [],
   "source": [
    "# Your code here"
   ]
  },
  {
   "cell_type": "markdown",
   "metadata": {},
   "source": [
    "\n",
    "\n",
    "### Bonus Exercise 5: Retry Logic on Exception\n",
    "Implement retry logic for operations that could fail, allowing users to try again after encountering an error.\n",
    "\n"
   ]
  },
  {
   "cell_type": "code",
   "execution_count": null,
   "metadata": {},
   "outputs": [],
   "source": [
    "# Your code here"
   ]
  }
 ],
 "metadata": {
  "kernelspec": {
   "display_name": "datasci_env",
   "language": "python",
   "name": "python3"
  },
  "language_info": {
   "codemirror_mode": {
    "name": "ipython",
    "version": 3
   },
   "file_extension": ".py",
   "mimetype": "text/x-python",
   "name": "python",
   "nbconvert_exporter": "python",
   "pygments_lexer": "ipython3",
   "version": "3.8.20"
  }
 },
 "nbformat": 4,
 "nbformat_minor": 2
}
